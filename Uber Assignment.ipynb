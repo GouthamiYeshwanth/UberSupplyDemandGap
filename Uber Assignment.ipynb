{
 "cells": [
  {
   "cell_type": "code",
   "execution_count": 1,
   "id": "f0e5ef55",
   "metadata": {},
   "outputs": [],
   "source": [
    "#importing required libraries\n",
    "import pandas as pd\n",
    "import matplotlib.pyplot as plt\n",
    "import seaborn as sns\n",
    "\n",
    "import warnings\n",
    "warnings.filterwarnings('ignore')"
   ]
  },
  {
   "cell_type": "code",
   "execution_count": 2,
   "id": "8a5f901f",
   "metadata": {},
   "outputs": [
    {
     "data": {
      "text/html": [
       "<div>\n",
       "<style scoped>\n",
       "    .dataframe tbody tr th:only-of-type {\n",
       "        vertical-align: middle;\n",
       "    }\n",
       "\n",
       "    .dataframe tbody tr th {\n",
       "        vertical-align: top;\n",
       "    }\n",
       "\n",
       "    .dataframe thead th {\n",
       "        text-align: right;\n",
       "    }\n",
       "</style>\n",
       "<table border=\"1\" class=\"dataframe\">\n",
       "  <thead>\n",
       "    <tr style=\"text-align: right;\">\n",
       "      <th></th>\n",
       "      <th>Request id</th>\n",
       "      <th>Pickup point</th>\n",
       "      <th>Driver id</th>\n",
       "      <th>Status</th>\n",
       "      <th>Request timestamp</th>\n",
       "      <th>Drop timestamp</th>\n",
       "    </tr>\n",
       "  </thead>\n",
       "  <tbody>\n",
       "    <tr>\n",
       "      <th>0</th>\n",
       "      <td>619</td>\n",
       "      <td>Airport</td>\n",
       "      <td>1.0</td>\n",
       "      <td>Trip Completed</td>\n",
       "      <td>11/7/2016 11:51</td>\n",
       "      <td>11/7/2016 13:00</td>\n",
       "    </tr>\n",
       "    <tr>\n",
       "      <th>1</th>\n",
       "      <td>867</td>\n",
       "      <td>Airport</td>\n",
       "      <td>1.0</td>\n",
       "      <td>Trip Completed</td>\n",
       "      <td>11/7/2016 17:57</td>\n",
       "      <td>11/7/2016 18:47</td>\n",
       "    </tr>\n",
       "    <tr>\n",
       "      <th>2</th>\n",
       "      <td>1807</td>\n",
       "      <td>City</td>\n",
       "      <td>1.0</td>\n",
       "      <td>Trip Completed</td>\n",
       "      <td>12/7/2016 9:17</td>\n",
       "      <td>12/7/2016 9:58</td>\n",
       "    </tr>\n",
       "    <tr>\n",
       "      <th>3</th>\n",
       "      <td>2532</td>\n",
       "      <td>Airport</td>\n",
       "      <td>1.0</td>\n",
       "      <td>Trip Completed</td>\n",
       "      <td>12/7/2016 21:08</td>\n",
       "      <td>12/7/2016 22:03</td>\n",
       "    </tr>\n",
       "    <tr>\n",
       "      <th>4</th>\n",
       "      <td>3112</td>\n",
       "      <td>City</td>\n",
       "      <td>1.0</td>\n",
       "      <td>Trip Completed</td>\n",
       "      <td>13-07-2016 08:33:16</td>\n",
       "      <td>13-07-2016 09:25:47</td>\n",
       "    </tr>\n",
       "    <tr>\n",
       "      <th>5</th>\n",
       "      <td>3879</td>\n",
       "      <td>Airport</td>\n",
       "      <td>1.0</td>\n",
       "      <td>Trip Completed</td>\n",
       "      <td>13-07-2016 21:57:28</td>\n",
       "      <td>13-07-2016 22:28:59</td>\n",
       "    </tr>\n",
       "    <tr>\n",
       "      <th>6</th>\n",
       "      <td>4270</td>\n",
       "      <td>Airport</td>\n",
       "      <td>1.0</td>\n",
       "      <td>Trip Completed</td>\n",
       "      <td>14-07-2016 06:15:32</td>\n",
       "      <td>14-07-2016 07:13:15</td>\n",
       "    </tr>\n",
       "    <tr>\n",
       "      <th>7</th>\n",
       "      <td>5510</td>\n",
       "      <td>Airport</td>\n",
       "      <td>1.0</td>\n",
       "      <td>Trip Completed</td>\n",
       "      <td>15-07-2016 05:11:52</td>\n",
       "      <td>15-07-2016 06:07:52</td>\n",
       "    </tr>\n",
       "    <tr>\n",
       "      <th>8</th>\n",
       "      <td>6248</td>\n",
       "      <td>City</td>\n",
       "      <td>1.0</td>\n",
       "      <td>Trip Completed</td>\n",
       "      <td>15-07-2016 17:57:27</td>\n",
       "      <td>15-07-2016 18:50:51</td>\n",
       "    </tr>\n",
       "    <tr>\n",
       "      <th>9</th>\n",
       "      <td>267</td>\n",
       "      <td>City</td>\n",
       "      <td>2.0</td>\n",
       "      <td>Trip Completed</td>\n",
       "      <td>11/7/2016 6:46</td>\n",
       "      <td>11/7/2016 7:25</td>\n",
       "    </tr>\n",
       "  </tbody>\n",
       "</table>\n",
       "</div>"
      ],
      "text/plain": [
       "   Request id Pickup point  Driver id          Status    Request timestamp  \\\n",
       "0         619      Airport        1.0  Trip Completed      11/7/2016 11:51   \n",
       "1         867      Airport        1.0  Trip Completed      11/7/2016 17:57   \n",
       "2        1807         City        1.0  Trip Completed       12/7/2016 9:17   \n",
       "3        2532      Airport        1.0  Trip Completed      12/7/2016 21:08   \n",
       "4        3112         City        1.0  Trip Completed  13-07-2016 08:33:16   \n",
       "5        3879      Airport        1.0  Trip Completed  13-07-2016 21:57:28   \n",
       "6        4270      Airport        1.0  Trip Completed  14-07-2016 06:15:32   \n",
       "7        5510      Airport        1.0  Trip Completed  15-07-2016 05:11:52   \n",
       "8        6248         City        1.0  Trip Completed  15-07-2016 17:57:27   \n",
       "9         267         City        2.0  Trip Completed       11/7/2016 6:46   \n",
       "\n",
       "        Drop timestamp  \n",
       "0      11/7/2016 13:00  \n",
       "1      11/7/2016 18:47  \n",
       "2       12/7/2016 9:58  \n",
       "3      12/7/2016 22:03  \n",
       "4  13-07-2016 09:25:47  \n",
       "5  13-07-2016 22:28:59  \n",
       "6  14-07-2016 07:13:15  \n",
       "7  15-07-2016 06:07:52  \n",
       "8  15-07-2016 18:50:51  \n",
       "9       11/7/2016 7:25  "
      ]
     },
     "execution_count": 2,
     "metadata": {},
     "output_type": "execute_result"
    }
   ],
   "source": [
    "# Read csv file into the data frame\n",
    "df = pd.read_csv(\"Uber Request Data.csv\")\n",
    "df.head(10)"
   ]
  },
  {
   "cell_type": "code",
   "execution_count": 3,
   "id": "75770bf8",
   "metadata": {},
   "outputs": [
    {
     "data": {
      "text/plain": [
       "(6745, 6)"
      ]
     },
     "execution_count": 3,
     "metadata": {},
     "output_type": "execute_result"
    }
   ],
   "source": [
    "#shape of the data\n",
    "df.shape"
   ]
  },
  {
   "cell_type": "code",
   "execution_count": 4,
   "id": "9f16ebd0",
   "metadata": {},
   "outputs": [
    {
     "data": {
      "text/html": [
       "<div>\n",
       "<style scoped>\n",
       "    .dataframe tbody tr th:only-of-type {\n",
       "        vertical-align: middle;\n",
       "    }\n",
       "\n",
       "    .dataframe tbody tr th {\n",
       "        vertical-align: top;\n",
       "    }\n",
       "\n",
       "    .dataframe thead th {\n",
       "        text-align: right;\n",
       "    }\n",
       "</style>\n",
       "<table border=\"1\" class=\"dataframe\">\n",
       "  <thead>\n",
       "    <tr style=\"text-align: right;\">\n",
       "      <th></th>\n",
       "      <th>Request id</th>\n",
       "      <th>Pickup point</th>\n",
       "      <th>Driver id</th>\n",
       "      <th>Status</th>\n",
       "      <th>Request timestamp</th>\n",
       "      <th>Drop timestamp</th>\n",
       "    </tr>\n",
       "  </thead>\n",
       "  <tbody>\n",
       "    <tr>\n",
       "      <th>0</th>\n",
       "      <td>619</td>\n",
       "      <td>Airport</td>\n",
       "      <td>1.0</td>\n",
       "      <td>Trip Completed</td>\n",
       "      <td>11/7/2016 11:51</td>\n",
       "      <td>11/7/2016 13:00</td>\n",
       "    </tr>\n",
       "    <tr>\n",
       "      <th>1</th>\n",
       "      <td>867</td>\n",
       "      <td>Airport</td>\n",
       "      <td>1.0</td>\n",
       "      <td>Trip Completed</td>\n",
       "      <td>11/7/2016 17:57</td>\n",
       "      <td>11/7/2016 18:47</td>\n",
       "    </tr>\n",
       "    <tr>\n",
       "      <th>2</th>\n",
       "      <td>1807</td>\n",
       "      <td>City</td>\n",
       "      <td>1.0</td>\n",
       "      <td>Trip Completed</td>\n",
       "      <td>12/7/2016 9:17</td>\n",
       "      <td>12/7/2016 9:58</td>\n",
       "    </tr>\n",
       "    <tr>\n",
       "      <th>3</th>\n",
       "      <td>2532</td>\n",
       "      <td>Airport</td>\n",
       "      <td>1.0</td>\n",
       "      <td>Trip Completed</td>\n",
       "      <td>12/7/2016 21:08</td>\n",
       "      <td>12/7/2016 22:03</td>\n",
       "    </tr>\n",
       "    <tr>\n",
       "      <th>4</th>\n",
       "      <td>3112</td>\n",
       "      <td>City</td>\n",
       "      <td>1.0</td>\n",
       "      <td>Trip Completed</td>\n",
       "      <td>13-07-2016 08:33:16</td>\n",
       "      <td>13-07-2016 09:25:47</td>\n",
       "    </tr>\n",
       "    <tr>\n",
       "      <th>...</th>\n",
       "      <td>...</td>\n",
       "      <td>...</td>\n",
       "      <td>...</td>\n",
       "      <td>...</td>\n",
       "      <td>...</td>\n",
       "      <td>...</td>\n",
       "    </tr>\n",
       "    <tr>\n",
       "      <th>6740</th>\n",
       "      <td>6745</td>\n",
       "      <td>City</td>\n",
       "      <td>NaN</td>\n",
       "      <td>No Cars Available</td>\n",
       "      <td>15-07-2016 23:49:03</td>\n",
       "      <td>NaN</td>\n",
       "    </tr>\n",
       "    <tr>\n",
       "      <th>6741</th>\n",
       "      <td>6752</td>\n",
       "      <td>Airport</td>\n",
       "      <td>NaN</td>\n",
       "      <td>No Cars Available</td>\n",
       "      <td>15-07-2016 23:50:05</td>\n",
       "      <td>NaN</td>\n",
       "    </tr>\n",
       "    <tr>\n",
       "      <th>6742</th>\n",
       "      <td>6751</td>\n",
       "      <td>City</td>\n",
       "      <td>NaN</td>\n",
       "      <td>No Cars Available</td>\n",
       "      <td>15-07-2016 23:52:06</td>\n",
       "      <td>NaN</td>\n",
       "    </tr>\n",
       "    <tr>\n",
       "      <th>6743</th>\n",
       "      <td>6754</td>\n",
       "      <td>City</td>\n",
       "      <td>NaN</td>\n",
       "      <td>No Cars Available</td>\n",
       "      <td>15-07-2016 23:54:39</td>\n",
       "      <td>NaN</td>\n",
       "    </tr>\n",
       "    <tr>\n",
       "      <th>6744</th>\n",
       "      <td>6753</td>\n",
       "      <td>Airport</td>\n",
       "      <td>NaN</td>\n",
       "      <td>No Cars Available</td>\n",
       "      <td>15-07-2016 23:55:03</td>\n",
       "      <td>NaN</td>\n",
       "    </tr>\n",
       "  </tbody>\n",
       "</table>\n",
       "<p>6745 rows × 6 columns</p>\n",
       "</div>"
      ],
      "text/plain": [
       "      Request id Pickup point  Driver id             Status  \\\n",
       "0            619      Airport        1.0     Trip Completed   \n",
       "1            867      Airport        1.0     Trip Completed   \n",
       "2           1807         City        1.0     Trip Completed   \n",
       "3           2532      Airport        1.0     Trip Completed   \n",
       "4           3112         City        1.0     Trip Completed   \n",
       "...          ...          ...        ...                ...   \n",
       "6740        6745         City        NaN  No Cars Available   \n",
       "6741        6752      Airport        NaN  No Cars Available   \n",
       "6742        6751         City        NaN  No Cars Available   \n",
       "6743        6754         City        NaN  No Cars Available   \n",
       "6744        6753      Airport        NaN  No Cars Available   \n",
       "\n",
       "        Request timestamp       Drop timestamp  \n",
       "0         11/7/2016 11:51      11/7/2016 13:00  \n",
       "1         11/7/2016 17:57      11/7/2016 18:47  \n",
       "2          12/7/2016 9:17       12/7/2016 9:58  \n",
       "3         12/7/2016 21:08      12/7/2016 22:03  \n",
       "4     13-07-2016 08:33:16  13-07-2016 09:25:47  \n",
       "...                   ...                  ...  \n",
       "6740  15-07-2016 23:49:03                  NaN  \n",
       "6741  15-07-2016 23:50:05                  NaN  \n",
       "6742  15-07-2016 23:52:06                  NaN  \n",
       "6743  15-07-2016 23:54:39                  NaN  \n",
       "6744  15-07-2016 23:55:03                  NaN  \n",
       "\n",
       "[6745 rows x 6 columns]"
      ]
     },
     "execution_count": 4,
     "metadata": {},
     "output_type": "execute_result"
    }
   ],
   "source": [
    "# drop the duplicate data if present\n",
    "df.drop_duplicates(subset=[\"Request id\"])"
   ]
  },
  {
   "cell_type": "code",
   "execution_count": 5,
   "id": "0b0b0955",
   "metadata": {},
   "outputs": [
    {
     "name": "stdout",
     "output_type": "stream",
     "text": [
      "<class 'pandas.core.frame.DataFrame'>\n",
      "RangeIndex: 6745 entries, 0 to 6744\n",
      "Data columns (total 6 columns):\n",
      " #   Column             Non-Null Count  Dtype  \n",
      "---  ------             --------------  -----  \n",
      " 0   Request id         6745 non-null   int64  \n",
      " 1   Pickup point       6745 non-null   object \n",
      " 2   Driver id          4095 non-null   float64\n",
      " 3   Status             6745 non-null   object \n",
      " 4   Request timestamp  6745 non-null   object \n",
      " 5   Drop timestamp     2831 non-null   object \n",
      "dtypes: float64(1), int64(1), object(4)\n",
      "memory usage: 316.3+ KB\n"
     ]
    }
   ],
   "source": [
    "# Check the data types and information about columns\n",
    "df.info()"
   ]
  },
  {
   "cell_type": "code",
   "execution_count": 6,
   "id": "2c5f648a",
   "metadata": {},
   "outputs": [
    {
     "data": {
      "text/plain": [
       "Request id              0\n",
       "Pickup point            0\n",
       "Driver id            2650\n",
       "Status                  0\n",
       "Request timestamp       0\n",
       "Drop timestamp       3914\n",
       "dtype: int64"
      ]
     },
     "execution_count": 6,
     "metadata": {},
     "output_type": "execute_result"
    }
   ],
   "source": [
    "#check for null values\n",
    "df.isna().sum()"
   ]
  },
  {
   "cell_type": "markdown",
   "id": "a3aa0d44",
   "metadata": {},
   "source": [
    "Except \"Driver id\" and \"Drop timestamp\" all other columns doesn't have null values. "
   ]
  },
  {
   "cell_type": "code",
   "execution_count": 7,
   "id": "25c91548",
   "metadata": {},
   "outputs": [
    {
     "data": {
      "text/plain": [
       "Request id           0.000000\n",
       "Pickup point         0.000000\n",
       "Driver id            0.392884\n",
       "Status               0.000000\n",
       "Request timestamp    0.000000\n",
       "Drop timestamp       0.580282\n",
       "dtype: float64"
      ]
     },
     "execution_count": 7,
     "metadata": {},
     "output_type": "execute_result"
    }
   ],
   "source": [
    "df.isnull().sum()/df.shape[0]"
   ]
  },
  {
   "cell_type": "markdown",
   "id": "cf9b363b",
   "metadata": {},
   "source": [
    "From the above data 58% of the Drop timestamp is null values and 39 % of Driver id is missing. \n",
    "In this case it's not safe to impute missing values so we can drop those columns or not use these columns in analysis"
   ]
  },
  {
   "cell_type": "code",
   "execution_count": 8,
   "id": "b6a51366",
   "metadata": {},
   "outputs": [
    {
     "data": {
      "text/plain": [
       "6745"
      ]
     },
     "execution_count": 8,
     "metadata": {},
     "output_type": "execute_result"
    }
   ],
   "source": [
    "#Checking values in Request id. All the values in the request id column is unique\n",
    "len(df[\"Request id\"].unique().tolist())"
   ]
  },
  {
   "cell_type": "code",
   "execution_count": 9,
   "id": "1cc44cc9",
   "metadata": {},
   "outputs": [
    {
     "data": {
      "text/plain": [
       "City       0.519941\n",
       "Airport    0.480059\n",
       "Name: Pickup point, dtype: float64"
      ]
     },
     "execution_count": 9,
     "metadata": {},
     "output_type": "execute_result"
    }
   ],
   "source": [
    "#check the data available in Pickup point\n",
    "df[\"Pickup point\"].value_counts(normalize=True)"
   ]
  },
  {
   "cell_type": "code",
   "execution_count": 10,
   "id": "c2a99286",
   "metadata": {},
   "outputs": [
    {
     "data": {
      "text/plain": [
       "Trip Completed       2831\n",
       "No Cars Available    2650\n",
       "Cancelled            1264\n",
       "Name: Status, dtype: int64"
      ]
     },
     "execution_count": 10,
     "metadata": {},
     "output_type": "execute_result"
    }
   ],
   "source": [
    "#check the data available in Status\n",
    "df[\"Status\"].value_counts()"
   ]
  },
  {
   "cell_type": "code",
   "execution_count": 11,
   "id": "9650d3f7",
   "metadata": {},
   "outputs": [
    {
     "data": {
      "text/plain": [
       "11/7/2016 19:02        6\n",
       "11/7/2016 17:57        6\n",
       "11/7/2016 8:37         6\n",
       "11/7/2016 9:40         6\n",
       "12/7/2016 21:42        5\n",
       "                      ..\n",
       "15-07-2016 18:08:33    1\n",
       "15-07-2016 04:50:54    1\n",
       "14-07-2016 18:42:23    1\n",
       "13-07-2016 19:26:50    1\n",
       "15-07-2016 23:55:03    1\n",
       "Name: Request timestamp, Length: 5618, dtype: int64"
      ]
     },
     "execution_count": 11,
     "metadata": {},
     "output_type": "execute_result"
    }
   ],
   "source": [
    "#check the data available in Request timestamp\n",
    "df[\"Request timestamp\"].value_counts()"
   ]
  },
  {
   "cell_type": "code",
   "execution_count": 12,
   "id": "34c67002",
   "metadata": {},
   "outputs": [],
   "source": [
    "#The values in Request timestamp is not in a standard format. Let's convert it to standard format\n",
    "df[\"Request timestamp\"] = pd.to_datetime(df[\"Request timestamp\"])"
   ]
  },
  {
   "cell_type": "code",
   "execution_count": 13,
   "id": "7a9afab3",
   "metadata": {},
   "outputs": [
    {
     "data": {
      "text/plain": [
       "2016-11-07 19:02:00    6\n",
       "2016-11-07 17:57:00    6\n",
       "2016-11-07 08:37:00    6\n",
       "2016-11-07 09:40:00    6\n",
       "2016-12-07 21:42:00    5\n",
       "                      ..\n",
       "2016-07-15 18:08:33    1\n",
       "2016-07-15 04:50:54    1\n",
       "2016-07-14 18:42:23    1\n",
       "2016-07-13 19:26:50    1\n",
       "2016-07-15 23:55:03    1\n",
       "Name: Request timestamp, Length: 5618, dtype: int64"
      ]
     },
     "execution_count": 13,
     "metadata": {},
     "output_type": "execute_result"
    }
   ],
   "source": [
    "#Check the values present in Request timestamp to confirm values are in standard format\n",
    "df[\"Request timestamp\"].value_counts()"
   ]
  },
  {
   "cell_type": "code",
   "execution_count": 14,
   "id": "2ef33252",
   "metadata": {},
   "outputs": [],
   "source": [
    "#To understand the cars demand hourly let's extract hour from the \"request timestamp\" column by using lambda function\n",
    "df[\"Request Hour\"] = df[\"Request timestamp\"].apply(lambda x:x.hour)"
   ]
  },
  {
   "cell_type": "code",
   "execution_count": 15,
   "id": "0b753cc5",
   "metadata": {},
   "outputs": [],
   "source": [
    "#To understand the cars demand day viz let's extract day from the \"request timestamp\" column by using lambda function\n",
    "df[\"Request Day\"] = df[\"Request timestamp\"].apply(lambda x:x.day)"
   ]
  },
  {
   "cell_type": "code",
   "execution_count": 16,
   "id": "85ff3554",
   "metadata": {},
   "outputs": [
    {
     "data": {
      "image/png": "[encoded data removed]",
      "text/plain": [
       "<Figure size 864x288 with 1 Axes>"
      ]
     },
     "metadata": {
      "needs_background": "light"
     },
     "output_type": "display_data"
    }
   ],
   "source": [
    "#We can analyse the hourly demand or pick ups of the cars by plotting the bar chart\n",
    "plt.figure(figsize=(12,4))\n",
    "df[\"Request Hour\"].value_counts().plot.bar()\n",
    "plt.title(\"Cab Bookings Per Hour\")\n",
    "plt.xlabel(\"24 hours\")\n",
    "plt.ylabel(\"Number of Booking\")\n",
    "plt.show()"
   ]
  },
  {
   "cell_type": "markdown",
   "id": "6ce64972",
   "metadata": {},
   "source": [
    "From the above plot we can see that there is high demand for cars in the morning from 5AM to 9AM and \n",
    "in the evening from 5PM to 9 PM "
   ]
  },
  {
   "cell_type": "code",
   "execution_count": 18,
   "id": "bb1f0864",
   "metadata": {},
   "outputs": [
    {
     "data": {
      "text/plain": [
       "7     2674\n",
       "15    1381\n",
       "14    1353\n",
       "13    1337\n",
       "Name: Request Day, dtype: int64"
      ]
     },
     "execution_count": 18,
     "metadata": {},
     "output_type": "execute_result"
    }
   ],
   "source": [
    "#We can analyse the day viz demand or pick ups of the cars \n",
    "df[\"Request Day\"].value_counts()"
   ]
  },
  {
   "cell_type": "markdown",
   "id": "ab78eed7",
   "metadata": {},
   "source": [
    "From the above data we cannot draw insights since we have only four days data"
   ]
  },
  {
   "cell_type": "markdown",
   "id": "79c0a372",
   "metadata": {},
   "source": [
    "1.Visually identify the most pressing problems for Uber. \n",
    "Hint: Create plots to visualize the frequency of requests that get canceled or show 'no cars available'; identify the most problematic types of requests (city to airport/airport to city etc.) and the time slots (early mornings, late evenings etc.) using plots"
   ]
  },
  {
   "cell_type": "code",
   "execution_count": 82,
   "id": "c94faa02",
   "metadata": {},
   "outputs": [
    {
     "data": {
      "text/plain": [
       "<Figure size 864x432 with 0 Axes>"
      ]
     },
     "metadata": {},
     "output_type": "display_data"
    },
    {
     "data": {
      "image/png": "[encoded data removed]",
      "text/plain": [
       "<Figure size 483.5x360 with 1 Axes>"
      ]
     },
     "metadata": {
      "needs_background": "light"
     },
     "output_type": "display_data"
    }
   ],
   "source": [
    "#We can plot Request Hour against status to check the demand suppy by checking which is the rush hour \n",
    "#and what's the status of request\n",
    "plt.figure(figsize=(12,6))\n",
    "sns.factorplot(x=\"Request Hour\", hue=\"Status\", data=df, kind=\"count\")\n",
    "plt.title(\"Booking vs Trip Status\")\n",
    "plt.xticks(rotation=90)\n",
    "plt.show()"
   ]
  },
  {
   "cell_type": "markdown",
   "id": "a5147049",
   "metadata": {},
   "source": [
    "From the above plot 1)In the morning rush hours from 5AM to 9AM \"Trips completed almost equal to number of trips cancelled\"\n",
    "                    2)In the day from 10 AM to 4PM Number of requests is comparitively less than morning and evening rush. \n",
    "                      Although \"No cars available is more than cancelled trips\"\n",
    "                    3)In the evening and late hours from 5PM to 11PM \"has highest No Cars available\""
   ]
  },
  {
   "cell_type": "code",
   "execution_count": 29,
   "id": "b982bc9e",
   "metadata": {},
   "outputs": [
    {
     "data": {
      "text/plain": [
       "<Figure size 864x432 with 0 Axes>"
      ]
     },
     "metadata": {},
     "output_type": "display_data"
    },
    {
     "data": {
      "image/png": "[encoded data removed]",
      "text/plain": [
       "<Figure size 430.125x360 with 1 Axes>"
      ]
     },
     "metadata": {
      "needs_background": "light"
     },
     "output_type": "display_data"
    }
   ],
   "source": [
    "#Let's check whether demand from airport/city is more during the rush hours by plotting demans vs pickup point\n",
    "plt.figure(figsize=(12,6))\n",
    "sns.factorplot(x=\"Request Hour\", hue=\"Pickup point\", data=df, kind=\"count\")\n",
    "plt.xticks(rotation=90)\n",
    "plt.show()"
   ]
  },
  {
   "cell_type": "markdown",
   "id": "a6b37ae7",
   "metadata": {},
   "source": [
    "From the above plot 1)High number of the pick ups from \"City\" during morning rush hour from 5AM to 9AM\n",
    "                    2)High Number of pick ups from \"Airport\" during the evening rush hour from 5PM to 10PM"
   ]
  },
  {
   "cell_type": "markdown",
   "id": "8cbd9d75",
   "metadata": {},
   "source": [
    "2.Find out the gap between supply and demand and show the same using plots.\n",
    "Find the time slots when the highest gap exists\n",
    "Find the types of requests (city-airport or airport-city) for which the gap is the most severe in the identified time slots"
   ]
  },
  {
   "cell_type": "markdown",
   "id": "1df8607b",
   "metadata": {},
   "source": [
    "#Let's create the time slots by using 1) <5AM Pre Morning \n",
    "                                      2) greater than equal to 5AM and less than 10 AM as \"Morning Rush\"\n",
    "                                      3) greater than equal to 10AM and less than 17PM as \"Day Time\"\n",
    "                                      4) gretaer than equal to 17PM and less than 22PM as \"Evening Rush\"\n",
    "                                      5) else \"Late Evening\""
   ]
  },
  {
   "cell_type": "code",
   "execution_count": 31,
   "id": "b4d47888",
   "metadata": {},
   "outputs": [],
   "source": [
    "#Create a time slot function\n",
    "def time_slot(x):\n",
    "    if x<5:\n",
    "        return \"Pre Morning\"\n",
    "    elif x>=5 and x<10:\n",
    "        return \"Morning Rush\"\n",
    "    elif x>=10 and x<17:\n",
    "        return \"Day Time\"\n",
    "    elif x>=17 and x<22:\n",
    "        return \"Evening Rush\"\n",
    "    else:\n",
    "        return \"Late Evening\""
   ]
  },
  {
   "cell_type": "code",
   "execution_count": 32,
   "id": "2c7793a4",
   "metadata": {},
   "outputs": [
    {
     "data": {
      "text/plain": [
       "0    11\n",
       "1    17\n",
       "2     9\n",
       "3    21\n",
       "4     8\n",
       "Name: Request Hour, dtype: int64"
      ]
     },
     "execution_count": 32,
     "metadata": {},
     "output_type": "execute_result"
    }
   ],
   "source": [
    "#Check the values in \"request hour\"\n",
    "df[\"Request Hour\"].head()"
   ]
  },
  {
   "cell_type": "code",
   "execution_count": 34,
   "id": "010bd063",
   "metadata": {},
   "outputs": [],
   "source": [
    "#Apply time slot function on request hour \n",
    "df[\"Time Slot\"] = df[\"Request Hour\"].apply(lambda x: time_slot(x))"
   ]
  },
  {
   "cell_type": "code",
   "execution_count": 35,
   "id": "e2f0962d",
   "metadata": {},
   "outputs": [
    {
     "data": {
      "text/plain": [
       "0        Day Time\n",
       "1    Evening Rush\n",
       "2    Morning Rush\n",
       "3    Evening Rush\n",
       "4    Morning Rush\n",
       "Name: Time Slot, dtype: object"
      ]
     },
     "execution_count": 35,
     "metadata": {},
     "output_type": "execute_result"
    }
   ],
   "source": [
    "#verify the data in time slot column\n",
    "df[\"Time Slot\"].head()"
   ]
  },
  {
   "cell_type": "code",
   "execution_count": 36,
   "id": "e96413a4",
   "metadata": {},
   "outputs": [
    {
     "data": {
      "text/plain": [
       "Evening Rush    2342\n",
       "Morning Rush    2103\n",
       "Day Time        1224\n",
       "Pre Morning      578\n",
       "Late Evening     498\n",
       "Name: Time Slot, dtype: int64"
      ]
     },
     "execution_count": 36,
     "metadata": {},
     "output_type": "execute_result"
    }
   ],
   "source": [
    "#Check the value counts of each time slot to understand the demand\n",
    "df[\"Time Slot\"].value_counts()"
   ]
  },
  {
   "cell_type": "code",
   "execution_count": 41,
   "id": "b4f40c1f",
   "metadata": {},
   "outputs": [
    {
     "data": {
      "text/plain": [
       "<Figure size 1152x288 with 0 Axes>"
      ]
     },
     "metadata": {},
     "output_type": "display_data"
    },
    {
     "data": {
      "image/png": "[encoded data removed]",
      "text/plain": [
       "<Figure size 483.5x360 with 1 Axes>"
      ]
     },
     "metadata": {
      "needs_background": "light"
     },
     "output_type": "display_data"
    }
   ],
   "source": [
    "#Plot factor plot to understand the demand and supply by plotting time slot vs trip status\n",
    "plt.figure(figsize=(16, 4))\n",
    "sns.factorplot(x=\"Time Slot\", hue=\"Status\", data=df, kind=\"count\")\n",
    "plt.xticks(rotation=90)\n",
    "plt.title(\"Time slot vs Trip Status\")\n",
    "plt.show()"
   ]
  },
  {
   "cell_type": "markdown",
   "id": "eb71fe83",
   "metadata": {},
   "source": [
    "From the above graph 1) In Evening Rush time slot there is a huge issue in the supply as there are \"No Cars Available\"\n",
    "                     2) In Morning Rush time slot there is a equal number of trips \"cancelled\" and \"completed\""
   ]
  },
  {
   "cell_type": "code",
   "execution_count": 83,
   "id": "8991b975",
   "metadata": {},
   "outputs": [
    {
     "data": {
      "text/plain": [
       "<Figure size 864x432 with 0 Axes>"
      ]
     },
     "metadata": {},
     "output_type": "display_data"
    },
    {
     "data": {
      "image/png": "[encoded data removed]",
      "text/plain": [
       "<Figure size 483.5x360 with 1 Axes>"
      ]
     },
     "metadata": {
      "needs_background": "light"
     },
     "output_type": "display_data"
    }
   ],
   "source": [
    "# as you can see in the above plot the higest number of cancellations are in the \"Morning Rush\" time slot. \n",
    "#Let's check in which pickup point the trips are cancelled highes\n",
    "temp_df = df[df[\"Time Slot\"] == \"Morning Rush\"]\n",
    "plt.figure(figsize=(12,6))\n",
    "sns.factorplot(x=\"Pickup point\", hue=\"Status\", data=temp_df, kind=\"count\")\n",
    "plt.xticks(rotation=90)\n",
    "plt.title(\"Pickip point vs Trip Status during Morning Rush\")\n",
    "plt.show()"
   ]
  },
  {
   "cell_type": "markdown",
   "id": "af8400ac",
   "metadata": {},
   "source": [
    "From the above plot most of trips cancelled in \"City\" Pick up point"
   ]
  },
  {
   "cell_type": "code",
   "execution_count": 52,
   "id": "bad0cc44",
   "metadata": {},
   "outputs": [
    {
     "data": {
      "text/plain": [
       "843"
      ]
     },
     "execution_count": 52,
     "metadata": {},
     "output_type": "execute_result"
    }
   ],
   "source": [
    "#Find the number of trips cancelled in the \"Morning Rush\" \n",
    "df.loc[(df[\"Time Slot\"]==\"Morning Rush\") & (df[\"Status\"] == \"Cancelled\")].shape[0]"
   ]
  },
  {
   "cell_type": "code",
   "execution_count": 53,
   "id": "5ad9e1a5",
   "metadata": {},
   "outputs": [
    {
     "data": {
      "text/plain": [
       "820"
      ]
     },
     "execution_count": 53,
     "metadata": {},
     "output_type": "execute_result"
    }
   ],
   "source": [
    "#Find the number of trips cancelled in the \"Morning Rush\" in \"City\"\n",
    "df.loc[(df[\"Time Slot\"]==\"Morning Rush\") & (df[\"Status\"] == \"Cancelled\") & (df[\"Pickup point\"]==\"City\")].shape[0]"
   ]
  },
  {
   "cell_type": "code",
   "execution_count": 54,
   "id": "4920cee3",
   "metadata": {},
   "outputs": [
    {
     "data": {
      "text/plain": [
       "23"
      ]
     },
     "execution_count": 54,
     "metadata": {},
     "output_type": "execute_result"
    }
   ],
   "source": [
    "#Find the number of trips cancelled in the \"Morning Rush\" in \"Airport\"\n",
    "df.loc[(df[\"Time Slot\"]==\"Morning Rush\") & (df[\"Status\"] == \"Cancelled\") & (df[\"Pickup point\"]==\"Airport\")].shape[0]"
   ]
  },
  {
   "cell_type": "code",
   "execution_count": 84,
   "id": "29e82bbc",
   "metadata": {},
   "outputs": [
    {
     "data": {
      "text/plain": [
       "<Figure size 864x432 with 0 Axes>"
      ]
     },
     "metadata": {},
     "output_type": "display_data"
    },
    {
     "data": {
      "image/png": "[encoded data removed]",
      "text/plain": [
       "<Figure size 483.5x360 with 1 Axes>"
      ]
     },
     "metadata": {
      "needs_background": "light"
     },
     "output_type": "display_data"
    }
   ],
   "source": [
    "# let's look at the supply and demand in evening rush hour\n",
    "temp_df = df[df[\"Time Slot\"] == \"Evening Rush\"]\n",
    "plt.figure(figsize=(12,6))\n",
    "sns.factorplot(x=\"Pickup point\", hue=\"Status\", data=temp_df, kind=\"count\")\n",
    "plt.title(\"Pickip point vs Trip Status during Evening Rush\")\n",
    "plt.xticks(rotation=90)\n",
    "plt.show()"
   ]
  },
  {
   "cell_type": "markdown",
   "id": "5e130216",
   "metadata": {},
   "source": [
    "From the above graph during Evening Rush Hour 1) Number of trips completed from \"City\" and \"Airport\" is almost same\n",
    "                                              2) There is a huge supply issue in Airport"
   ]
  },
  {
   "cell_type": "markdown",
   "id": "801b3230",
   "metadata": {},
   "source": [
    "3. What do you think is the reason for this issue for the supply-demand gap? Write the answer in less than 100 words. You may accompany the write-up with plot(s)."
   ]
  },
  {
   "cell_type": "code",
   "execution_count": 56,
   "id": "59f7b8e9",
   "metadata": {},
   "outputs": [
    {
     "data": {
      "text/plain": [
       "411"
      ]
     },
     "execution_count": 56,
     "metadata": {},
     "output_type": "execute_result"
    }
   ],
   "source": [
    "#Number of trips completed in Evening Rush from \"City\"\n",
    "df.loc[(df[\"Time Slot\"]==\"Evening Rush\") & (df[\"Status\"] == \"Trip Completed\") & (df[\"Pickup point\"]==\"City\")].shape[0]"
   ]
  },
  {
   "cell_type": "code",
   "execution_count": 57,
   "id": "52575b19",
   "metadata": {},
   "outputs": [
    {
     "data": {
      "text/plain": [
       "373"
      ]
     },
     "execution_count": 57,
     "metadata": {},
     "output_type": "execute_result"
    }
   ],
   "source": [
    "#Number of trips completed in Evening Rush from \"Airport\"\n",
    "df.loc[(df[\"Time Slot\"]==\"Evening Rush\") & (df[\"Status\"] == \"Trip Completed\") & (df[\"Pickup point\"]==\"Airport\")].shape[0]"
   ]
  },
  {
   "cell_type": "code",
   "execution_count": 58,
   "id": "8da32d08",
   "metadata": {},
   "outputs": [
    {
     "data": {
      "text/plain": [
       "60"
      ]
     },
     "execution_count": 58,
     "metadata": {},
     "output_type": "execute_result"
    }
   ],
   "source": [
    "#Number of trips cancelled in Evening Rush from \"City\"\n",
    "df.loc[(df[\"Time Slot\"]==\"Evening Rush\") & (df[\"Status\"] == \"Cancelled\") & (df[\"Pickup point\"]==\"City\")].shape[0]"
   ]
  },
  {
   "cell_type": "code",
   "execution_count": 59,
   "id": "8670f403",
   "metadata": {},
   "outputs": [
    {
     "data": {
      "text/plain": [
       "106"
      ]
     },
     "execution_count": 59,
     "metadata": {},
     "output_type": "execute_result"
    }
   ],
   "source": [
    "#Number of trips cancelled in Evening Rush from \"Airport\"\n",
    "df.loc[(df[\"Time Slot\"]==\"Evening Rush\") & (df[\"Status\"] == \"Cancelled\") & (df[\"Pickup point\"]==\"Airport\")].shape[0]"
   ]
  },
  {
   "cell_type": "code",
   "execution_count": 60,
   "id": "93b8441a",
   "metadata": {},
   "outputs": [
    {
     "data": {
      "text/plain": [
       "71"
      ]
     },
     "execution_count": 60,
     "metadata": {},
     "output_type": "execute_result"
    }
   ],
   "source": [
    "#Number of trips ended with \"No Cars Available\" in Evening Rush from \"City\"\n",
    "df.loc[(df[\"Time Slot\"]==\"Evening Rush\") & (df[\"Status\"] == \"No Cars Available\") & (df[\"Pickup point\"]==\"City\")].shape[0]"
   ]
  },
  {
   "cell_type": "code",
   "execution_count": 61,
   "id": "b34c763a",
   "metadata": {},
   "outputs": [
    {
     "data": {
      "text/plain": [
       "1321"
      ]
     },
     "execution_count": 61,
     "metadata": {},
     "output_type": "execute_result"
    }
   ],
   "source": [
    "#Number of trips ended with \"No Cars Available\" in Evening Rush from \"Airport\"\n",
    "df.loc[(df[\"Time Slot\"]==\"Evening Rush\") & (df[\"Status\"] == \"No Cars Available\") & (df[\"Pickup point\"]==\"Airport\")].shape[0]"
   ]
  },
  {
   "cell_type": "code",
   "execution_count": 76,
   "id": "8fa71165",
   "metadata": {},
   "outputs": [
    {
     "data": {
      "image/png": "[encoded data removed]",
      "text/plain": [
       "<Figure size 432x288 with 1 Axes>"
      ]
     },
     "metadata": {},
     "output_type": "display_data"
    }
   ],
   "source": [
    "#Let's check the percentage of trip status in Morning Rush Hour\n",
    "df_morning = df.loc[df[\"Time Slot\"]==\"Morning Rush\"]\n",
    "df_morning[\"Status\"].value_counts().plot.pie(autopct='%0.0f%%')\n",
    "plt.title(\"Morning Rush Hour Trip Status\")\n",
    "plt.show()"
   ]
  },
  {
   "cell_type": "markdown",
   "id": "30c2fdde",
   "metadata": {},
   "source": [
    "From the above plot in \"Morning Rush Hour Trip Status\" We can clearly see there is almost 40% of the Trips are Cancelled."
   ]
  },
  {
   "cell_type": "code",
   "execution_count": 77,
   "id": "9eb634c3",
   "metadata": {},
   "outputs": [
    {
     "data": {
      "image/png": "[encoded data removed]",
      "text/plain": [
       "<Figure size 432x288 with 1 Axes>"
      ]
     },
     "metadata": {},
     "output_type": "display_data"
    }
   ],
   "source": [
    "#Let's check the percentage of trip status in Morning Rush Hour in \"City\"\n",
    "df_morning = df.loc[df[\"Time Slot\"]==\"Morning Rush\"]\n",
    "df_morning.loc[df_morning[\"Pickup point\"]==\"City\"][\"Status\"].value_counts().plot.pie(autopct='%0.0f%%')\n",
    "plt.title(\"Morning Rush Hour Trip Status In City\")\n",
    "plt.show()"
   ]
  },
  {
   "cell_type": "markdown",
   "id": "00804dfb",
   "metadata": {},
   "source": [
    "In the Morning Rush Hour Most of the trips are Cancelled in the City Pick up point"
   ]
  },
  {
   "cell_type": "code",
   "execution_count": 78,
   "id": "8f11c55c",
   "metadata": {},
   "outputs": [
    {
     "data": {
      "image/png": "[encoded data removed]",
      "text/plain": [
       "<Figure size 432x288 with 1 Axes>"
      ]
     },
     "metadata": {},
     "output_type": "display_data"
    }
   ],
   "source": [
    "#Let's check the percentage of trip status in Morning Rush Hour in \"Airport\"\n",
    "df_morning = df.loc[df[\"Time Slot\"]==\"Morning Rush\"]\n",
    "df_morning.loc[df_morning[\"Pickup point\"]==\"Airport\"][\"Status\"].value_counts().plot.pie(autopct='%0.0f%%')\n",
    "plt.title(\"Morning Rush Hour Trip Status In Airport\")\n",
    "plt.show()"
   ]
  },
  {
   "cell_type": "markdown",
   "id": "88d15206",
   "metadata": {},
   "source": [
    "From the above plots During Morning Rush Hour\n",
    "1) The Cab service in the Airport is working seemlessly as 90% of trips are completed only 5% cabs are cancelled and only 5% No cars are available\n",
    "2) Where as in the city almost 49% of trips are cancelled, 23% of cars are not available and only 28% of trips are completed\n",
    "3) In the morning rush hour we should reduce the number of trips cancellation in city by increasing the car pooling making cabs available"
   ]
  },
  {
   "cell_type": "code",
   "execution_count": 79,
   "id": "353ebfd2",
   "metadata": {},
   "outputs": [
    {
     "data": {
      "image/png": "[encoded data removed]",
      "text/plain": [
       "<Figure size 432x288 with 1 Axes>"
      ]
     },
     "metadata": {},
     "output_type": "display_data"
    }
   ],
   "source": [
    "#Let's check the percentage of trip status in Evening Rush Hour\n",
    "df_evening = df.loc[df[\"Time Slot\"]==\"Evening Rush\"]\n",
    "df_evening[\"Status\"].value_counts().plot.pie(autopct='%0.0f%%')\n",
    "plt.title(\"Evening Rush Hour Trip Status\")\n",
    "plt.show()"
   ]
  },
  {
   "cell_type": "code",
   "execution_count": 80,
   "id": "c59fb722",
   "metadata": {},
   "outputs": [
    {
     "data": {
      "image/png": "[encoded data removed]",
      "text/plain": [
       "<Figure size 432x288 with 1 Axes>"
      ]
     },
     "metadata": {},
     "output_type": "display_data"
    }
   ],
   "source": [
    "#Let's check the percentage of trip status in Evening Rush Hour in \"City\"\n",
    "df_evening.loc[df_evening[\"Pickup point\"]==\"City\"][\"Status\"].value_counts().plot.pie(autopct='%0.0f%%')\n",
    "plt.title(\"Evening Rush Hour Trip Status In City\")\n",
    "plt.show()"
   ]
  },
  {
   "cell_type": "code",
   "execution_count": 81,
   "id": "14a12002",
   "metadata": {},
   "outputs": [
    {
     "data": {
      "image/png": "[encoded data removed]",
      "text/plain": [
       "<Figure size 432x288 with 1 Axes>"
      ]
     },
     "metadata": {},
     "output_type": "display_data"
    }
   ],
   "source": [
    "#Let's check the percentage of trip status in Morning Rush Hour in \"Airport\"\n",
    "df_evening.loc[df_evening[\"Pickup point\"]==\"Airport\"][\"Status\"].value_counts().plot.pie(autopct='%0.0f%%')\n",
    "plt.title(\"Evening Rush Hour Trip Status In Airport\")\n",
    "plt.show()"
   ]
  },
  {
   "cell_type": "markdown",
   "id": "64d765f9",
   "metadata": {},
   "source": [
    "From the above plots During Evening Rush Hour\n",
    "\n",
    "1) The Cab service in the City is working comparitively better than the cities\n",
    "2) In the Evening Rush in City Pick up point almost 76% of the trips are completed, 13% cars not available and 11% cancelled\n",
    "3) In the Airport Pick up point 73% of cars not available. We should increase the car availability"
   ]
  },
  {
   "cell_type": "markdown",
   "id": "9abbaadc",
   "metadata": {},
   "source": [
    "4.Recommend some ways to resolve the supply-demand gap."
   ]
  },
  {
   "cell_type": "markdown",
   "id": "04cb34ad",
   "metadata": {},
   "source": [
    "1. In Morning Rush We can increase the cars availability by providing car pooling and also we can decrease car cancellations in the cities by giving incentives to both cab drivers and users\n",
    "2. In Evening Rush Hour there is almost 73% of no cars available in Airports we can decrease by making number of cars available by providing extra facilities to cab drivers like providing late evening fee\n",
    "   "
   ]
  },
  {
   "cell_type": "code",
   "execution_count": null,
   "id": "2f32d7a8",
   "metadata": {},
   "outputs": [],
   "source": []
  }
 ],
 "metadata": {
  "kernelspec": {
   "display_name": "Python 3 (ipykernel)",
   "language": "python",
   "name": "python3"
  },
  "language_info": {
   "codemirror_mode": {
    "name": "ipython",
    "version": 3
   },
   "file_extension": ".py",
   "mimetype": "text/x-python",
   "name": "python",
   "nbconvert_exporter": "python",
   "pygments_lexer": "ipython3",
   "version": "3.9.7"
  }
 },
 "nbformat": 4,
 "nbformat_minor": 5
}
